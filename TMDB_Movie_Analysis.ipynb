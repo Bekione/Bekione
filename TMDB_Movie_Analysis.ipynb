{
  "nbformat": 4,
  "nbformat_minor": 0,
  "metadata": {
    "colab": {
      "provenance": [],
      "mount_file_id": "1Mlc8kaur8oSlbNbfjEQOunsU9FpwDZoy",
      "authorship_tag": "ABX9TyOJSFGsUco+RgBxSPuJPDvx",
      "include_colab_link": true
    },
    "kernelspec": {
      "name": "python3",
      "display_name": "Python 3"
    },
    "language_info": {
      "name": "python"
    }
  },
  "cells": [
    {
      "cell_type": "markdown",
      "metadata": {
        "id": "view-in-github",
        "colab_type": "text"
      },
      "source": [
        "<a href=\"https://colab.research.google.com/github/Bekione/Bekione/blob/main/TMDB_Movie_Analysis.ipynb\" target=\"_parent\"><img src=\"https://colab.research.google.com/assets/colab-badge.svg\" alt=\"Open In Colab\"/></a>"
      ]
    },
    {
      "cell_type": "markdown",
      "source": [
        "*Big Data Assignment*\n",
        "\n",
        "\n",
        "---\n",
        "\n",
        "\n",
        "**Dataset Investigation**\n",
        "\n",
        "**TMDB Movie Data Analysis**\n",
        "\n",
        "Here, I tried to analyze the movie data based on different types of analysis questions;\n",
        "\n",
        "1. Seasonal Trends:\n",
        "> Are there any seasonal trends in movie releases or box office performance?\n",
        "\n",
        "2. Budget and Popularity Thresholds:\n",
        "> Is there a minimum budget threshold for a movie to be considered popular?\n",
        "\n",
        "3. Crew Collaboration Impact:\n",
        ">  the impact of crew collaboration, such as the same director or actors working together in multiple movies.\n",
        "\n",
        "4. Rating and Revenue Consistency:\n",
        "> Examine the consistency between a movie's rating and its revenue.\n",
        "\n",
        "5. Budget Distribution Across Genres:\n",
        "> Examine how budgets are distributed across different genres."
      ],
      "metadata": {
        "id": "WqrPTIXeT5RC"
      }
    }
  ]
}